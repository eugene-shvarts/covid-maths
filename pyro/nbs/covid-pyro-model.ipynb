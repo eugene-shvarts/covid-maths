{
 "cells": [
  {
   "cell_type": "code",
   "execution_count": 6,
   "metadata": {},
   "outputs": [],
   "source": [
    "import torch\n",
    "import pyro\n",
    "import pyro.distributions as dist\n",
    "\n",
    "import numpy as np\n",
    "import matplotlib.pyplot as plt\n",
    "from collections import Counter"
   ]
  },
  {
   "cell_type": "code",
   "execution_count": 59,
   "metadata": {},
   "outputs": [],
   "source": [
    "def samples_hist(pdf, n=100):\n",
    "  labels, vals = zip(*sorted(Counter(\n",
    "    int(pyro.sample('samples_hist', pdf)) for _ in range(n)).items()))\n",
    "\n",
    "  width = 1\n",
    "  inds = np.arange(len(labels))\n",
    "  plt.bar(inds, vals, width)\n",
    "  plt.xticks(inds, labels)\n",
    "  plt.show()"
   ]
  },
  {
   "cell_type": "code",
   "execution_count": 142,
   "metadata": {},
   "outputs": [],
   "source": [
    "class population_history:\n",
    "  def __init__(self, labels):\n",
    "    self.labels = labels\n",
    "    self.states = []\n",
    "  \n",
    "  def append(self, *args):\n",
    "    self.states.append(args)\n",
    "\n",
    "  def __repr__(self):\n",
    "    N_PRINT = 10\n",
    "    more_states = len(self.states) - N_PRINT - 1\n",
    "    more_str = f'\\n ... ({more_states} more)' if more_states > 0 else ''      \n",
    "    return '\\n'.join(\n",
    "      ', '.join(f'{l}: {s[ind]}' for ind, l in enumerate(self.labels)\n",
    "        ) for s in self.states[:-N_PRINT-1:-1]) + more_str\n",
    "\n",
    "class population_state:\n",
    "  def __init__(self):\n",
    "    self.infected = int(pyro.sample('init', dist.Poisson(5)))\n",
    "    self.dead = 0\n",
    "    self.recovered = 0\n",
    "    self.history = population_history(['i', 'd', 'r'])\n",
    "    self.history.append(self.infected, self.dead, self.recovered)\n",
    "    \n",
    "    self.r_infect = 0.2 # daily growth of 20%\n",
    "    self.r_die = 0.001 # 2% risk after 20 days -> .1% risk/day\n",
    "    self.r_recover = 0.049 # 98% recovery after 20 days -> .049% risk/day\n",
    "    \n",
    "  def __repr__(self):\n",
    "    return f'i: {self.infected}, d: {self.dead}, r: {self.recovered}'\n",
    "    \n",
    "  def step(self, n=1):\n",
    "    for _ in range(n):\n",
    "      def samp_infected(r, label):\n",
    "        return int(pyro.sample(label, dist.Poisson(r * self.infected)))\n",
    "      new_infected = samp_infected(self.r_infect, 'i')\n",
    "      new_dead = samp_infected(self.r_die, 'd')\n",
    "      new_recovered = samp_infected(self.r_recover, 'r')\n",
    "#       print(f'new i: {new_infected}, d: {new_dead}, r: {new_recovered}')\n",
    "\n",
    "      self.infected += new_infected - new_dead - new_recovered\n",
    "      self.dead += new_dead\n",
    "      self.recovered += new_recovered\n",
    "      self.history.append(self.infected, self.dead, self.recovered)"
   ]
  },
  {
   "cell_type": "code",
   "execution_count": 143,
   "metadata": {},
   "outputs": [
    {
     "data": {
      "text/plain": [
       "i: 35, d: 0, r: 8\n",
       "i: 30, d: 0, r: 6\n",
       "i: 27, d: 0, r: 4\n",
       "i: 26, d: 0, r: 3\n",
       "i: 18, d: 0, r: 3\n",
       "i: 15, d: 0, r: 2\n",
       "i: 13, d: 0, r: 1\n",
       "i: 10, d: 0, r: 1\n",
       "i: 10, d: 0, r: 0\n",
       "i: 8, d: 0, r: 0\n",
       " ... (1 more)"
      ]
     },
     "execution_count": 143,
     "metadata": {},
     "output_type": "execute_result"
    }
   ],
   "source": [
    "s = population_state()\n",
    "s.step(11)\n",
    "s.history"
   ]
  },
  {
   "cell_type": "code",
   "execution_count": 144,
   "metadata": {},
   "outputs": [],
   "source": [
    "# template from SVI Tutorial Part 3\n",
    "\n",
    "import torch\n",
    "import torch.distributions.constraints as constraints\n",
    "import pyro\n",
    "import pyro.distributions as dist\n",
    "import pyro.optim as optim\n",
    "from pyro.infer import SVI, TraceGraph_ELBO\n",
    "\n",
    "def param_abs_error(name, target):\n",
    "    return torch.sum(torch.abs(target - pyro.param(name))).item()\n",
    "\n",
    "class Inference:\n",
    "  def __init__(self, data, max_steps = 10000):\n",
    "    self.max_steps = max_steps\n",
    "    self.data = data\n",
    "    self.n_data = self.data.size(0)\n",
    "    # declare parameters\n",
    "    # declare initial values for guide params\n",
    "\n",
    "  def model(self):\n",
    "    pass\n",
    "    # declare the model\n",
    "  \n",
    "  def guide(self):\n",
    "    pass\n",
    "    # declare the guide\n",
    "\n",
    "  def do_inference(self, tol=0.8):\n",
    "    pyro.clear_param_store()\n",
    "    optimizer = optim.Adam({'lr': .0005, 'betas': (0.93, 0.999)})\n",
    "    svi = SVI(self.model, self.guide, optimizer, loss=TraceGraph_ELBO())\n",
    "    print('Doing inference:')\n",
    "    \n",
    "    for k in range(self.max_steps):\n",
    "      svi.step()\n",
    "      if k % 100 == 0:\n",
    "        print('.', end='')\n",
    "        \n",
    "      # compute some error using param_abs_error\n",
    "      \n",
    "      # stop inference early if error is small\n",
    "      # if some_error < tol:\n",
    "      #   break\n",
    "      \n",
    "    print(f'\\nDid {k} steps of inference.')"
   ]
  },
  {
   "cell_type": "code",
   "execution_count": null,
   "metadata": {},
   "outputs": [],
   "source": []
  }
 ],
 "metadata": {
  "kernelspec": {
   "display_name": "Python 3",
   "language": "python",
   "name": "python3"
  },
  "language_info": {
   "codemirror_mode": {
    "name": "ipython",
    "version": 3
   },
   "file_extension": ".py",
   "mimetype": "text/x-python",
   "name": "python",
   "nbconvert_exporter": "python",
   "pygments_lexer": "ipython3",
   "version": "3.6.9"
  }
 },
 "nbformat": 4,
 "nbformat_minor": 4
}
