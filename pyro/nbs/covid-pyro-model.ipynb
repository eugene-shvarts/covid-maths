{
 "cells": [
  {
   "cell_type": "code",
   "execution_count": 6,
   "metadata": {},
   "outputs": [],
   "source": [
    "import torch\n",
    "import pyro\n",
    "import pyro.distributions as dist\n",
    "\n",
    "import numpy as np\n",
    "import matplotlib.pyplot as plt\n",
    "from collections import Counter"
   ]
  },
  {
   "cell_type": "code",
   "execution_count": 59,
   "metadata": {},
   "outputs": [],
   "source": [
    "def samples_hist(pdf, n=100):\n",
    "  labels, vals = zip(*sorted(Counter(\n",
    "    int(pyro.sample('samples_hist', pdf)) for _ in range(n)).items()))\n",
    "\n",
    "  width = 1\n",
    "  inds = np.arange(len(labels))\n",
    "  plt.bar(inds, vals, width)\n",
    "  plt.xticks(inds, labels)\n",
    "  plt.show()"
   ]
  },
  {
   "cell_type": "code",
   "execution_count": 137,
   "metadata": {},
   "outputs": [],
   "source": [
    "class population_history:\n",
    "  def __init__(self, labels):\n",
    "    self.labels = labels\n",
    "    self.states = []\n",
    "  \n",
    "  def append(self, *args):\n",
    "    self.states.append(args)\n",
    "\n",
    "  def __repr__(self):\n",
    "    N_PRINT = 10\n",
    "    more_states = len(self.states) - N_PRINT - 1\n",
    "    more_str = f'\\n ... ({more_states} more)' if more_states > 0 else ''      \n",
    "    return '\\n'.join(\n",
    "      ', '.join(f'{l}: {s[ind]}' for ind, l in enumerate(self.labels)\n",
    "        ) for s in self.states[:-N_PRINT-1:-1]) + more_str\n",
    "\n",
    "class population_state:\n",
    "  def __init__(self):\n",
    "    self.infected = int(pyro.sample('inf_init', dist.Poisson(5)))\n",
    "    self.dead = 0\n",
    "    self.recovered = 0\n",
    "    self.history = population_history(['i', 'd', 'r'])\n",
    "    self.history.append(self.infected, self.dead, self.recovered)\n",
    "    \n",
    "    self.r_infect = 0.2 # daily growth of 20%\n",
    "    self.r_die = 0.001 # 2% risk after 20 days -> .1% risk/day\n",
    "    self.r_recover = 0.049 # 98% recovery after 20 days -> .049% risk/day\n",
    "    \n",
    "  def __repr__(self):\n",
    "    return f'i: {self.infected}, d: {self.dead}, r: {self.recovered}'\n",
    "    \n",
    "  def step(self, n=1):\n",
    "    for _ in range(n):\n",
    "      def samp_infected(r):\n",
    "        return int(pyro.sample(f'inf_{r}', dist.Poisson(r * self.infected)))\n",
    "      new_infected = samp_infected(self.r_infect)\n",
    "      new_dead = samp_infected(self.r_die)\n",
    "      new_recovered = samp_infected(self.r_recover)\n",
    "#       print(f'new i: {new_infected}, d: {new_dead}, r: {new_recovered}')\n",
    "\n",
    "      self.infected += new_infected - new_dead - new_recovered\n",
    "      self.dead += new_dead\n",
    "      self.recovered += new_recovered\n",
    "      self.history.append(self.infected, self.dead, self.recovered)"
   ]
  },
  {
   "cell_type": "code",
   "execution_count": 138,
   "metadata": {},
   "outputs": [
    {
     "data": {
      "text/plain": [
       "i: 46599, d: 298, r: 15461\n",
       "i: 40529, d: 262, r: 13499\n",
       "i: 35146, d: 223, r: 11739\n",
       "i: 30628, d: 179, r: 10245\n",
       "i: 26606, d: 157, r: 8968\n",
       "i: 23169, d: 138, r: 7798\n",
       "i: 20232, d: 126, r: 6787\n",
       "i: 17691, d: 110, r: 5879\n",
       "i: 15430, d: 93, r: 5111\n",
       "i: 13427, d: 84, r: 4440\n",
       " ... (50 more)"
      ]
     },
     "execution_count": 138,
     "metadata": {},
     "output_type": "execute_result"
    }
   ],
   "source": [
    "s = population_state()\n",
    "s.step(60)\n",
    "s.history"
   ]
  },
  {
   "cell_type": "code",
   "execution_count": null,
   "metadata": {},
   "outputs": [],
   "source": []
  }
 ],
 "metadata": {
  "kernelspec": {
   "display_name": "Python 3",
   "language": "python",
   "name": "python3"
  },
  "language_info": {
   "codemirror_mode": {
    "name": "ipython",
    "version": 3
   },
   "file_extension": ".py",
   "mimetype": "text/x-python",
   "name": "python",
   "nbconvert_exporter": "python",
   "pygments_lexer": "ipython3",
   "version": "3.6.9"
  }
 },
 "nbformat": 4,
 "nbformat_minor": 4
}
