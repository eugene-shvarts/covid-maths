{
 "cells": [
  {
   "cell_type": "markdown",
   "metadata": {},
   "source": [
    "### Introduction to models"
   ]
  },
  {
   "cell_type": "code",
   "execution_count": 1,
   "metadata": {},
   "outputs": [],
   "source": [
    "import torch\n",
    "import pyro"
   ]
  },
  {
   "cell_type": "code",
   "execution_count": 2,
   "metadata": {},
   "outputs": [
    {
     "name": "stdout",
     "output_type": "stream",
     "text": [
      "sample tensor(-1.3357)\n",
      "log prob tensor(-1.8110)\n"
     ]
    }
   ],
   "source": [
    "m = 0\n",
    "s = 1\n",
    "normal = torch.distributions.Normal(m, s)\n",
    "x = normal.rsample()\n",
    "print('sample', x)\n",
    "print('log prob', normal.log_prob(x))"
   ]
  },
  {
   "cell_type": "code",
   "execution_count": 3,
   "metadata": {},
   "outputs": [],
   "source": [
    "def weather():\n",
    "    cloudy = pyro.distributions.Bernoulli(0.3).sample()\n",
    "    cloudy = 'cloudy' if cloudy.item() == 1.0 else 'sunny'\n",
    "    mean_temp = {'cloudy': 55.0, 'sunny': 75.0}[cloudy]\n",
    "    scale_temp = {'cloudy': 10.0, 'sunny': 15.0}[cloudy]\n",
    "    temp = pyro.distributions.Normal(mean_temp, scale_temp).rsample()\n",
    "    return cloudy, temp.item()"
   ]
  },
  {
   "cell_type": "code",
   "execution_count": 4,
   "metadata": {},
   "outputs": [
    {
     "data": {
      "text/plain": [
       "('sunny', 97.01063537597656)"
      ]
     },
     "execution_count": 4,
     "metadata": {},
     "output_type": "execute_result"
    }
   ],
   "source": [
    "weather()"
   ]
  },
  {
   "cell_type": "code",
   "execution_count": 5,
   "metadata": {},
   "outputs": [
    {
     "name": "stdout",
     "output_type": "stream",
     "text": [
      "('sunny', 43.183597564697266)\n",
      "('cloudy', 55.55808639526367)\n",
      "('sunny', 103.19703674316406)\n"
     ]
    }
   ],
   "source": [
    "cloudy_pdf = pyro.distributions.Bernoulli(0.3)\n",
    "\n",
    "def temp_pdf(is_cloudy):\n",
    "  m, s = (55.0, 10.0) if is_cloudy else (75.0, 15.0)\n",
    "  return pyro.distributions.Normal(m, s)\n",
    "\n",
    "def cloudy_str(is_cloudy):\n",
    "  return 'cloudy' if is_cloudy else 'sunny'\n",
    "\n",
    "def weather():\n",
    "  cloudy = pyro.sample('cloudy', cloudy_pdf)\n",
    "  is_cloudy = cloudy.item() == 1.0\n",
    "  temp = pyro.sample('temp', temp_pdf(is_cloudy))\n",
    "  return is_cloudy, temp.item()\n",
    "\n",
    "for _ in range(3):\n",
    "  is_cloudy, temp = weather()\n",
    "  print((cloudy_str(is_cloudy), temp))"
   ]
  },
  {
   "cell_type": "code",
   "execution_count": 6,
   "metadata": {},
   "outputs": [
    {
     "name": "stdout",
     "output_type": "stream",
     "text": [
      "62.67461013793945\n",
      "64.92877960205078\n",
      "67.72350311279297\n",
      "54.39554214477539\n",
      "204.452880859375\n",
      "33.4540901184082\n",
      "52.21428298950195\n",
      "54.8080940246582\n",
      "201.04031372070312\n",
      "55.73650360107422\n"
     ]
    }
   ],
   "source": [
    "def ice_cream_pdf(is_cloudy, temp):\n",
    "  m = 200.0 if not is_cloudy and temp > 80.0 else 50.0\n",
    "  return pyro.distributions.Normal(m, 10.0)\n",
    "\n",
    "def ice_cream_sales():\n",
    "  return pyro.sample('ice_cream', ice_cream_pdf(*weather()))\n",
    "\n",
    "for _ in range(10):\n",
    "  print(ice_cream_sales().item())"
   ]
  },
  {
   "cell_type": "code",
   "execution_count": 7,
   "metadata": {},
   "outputs": [],
   "source": [
    "def geometric(p, t=None):\n",
    "  if t is None:\n",
    "    t = 0\n",
    "  x = pyro.sample(f'x_{t}', pyro.distributions.Bernoulli(p))\n",
    "  if x.item() == 1:\n",
    "    return 0\n",
    "  else:\n",
    "    return 1 + geometric(p, t+1)"
   ]
  },
  {
   "cell_type": "code",
   "execution_count": 28,
   "metadata": {},
   "outputs": [
    {
     "data": {
      "image/png": "[encoded data removed]",
      "text/plain": [
       "<Figure size 432x288 with 1 Axes>"
      ]
     },
     "metadata": {
      "needs_background": "light"
     },
     "output_type": "display_data"
    }
   ],
   "source": [
    "from collections import Counter\n",
    "import numpy as np\n",
    "import matplotlib.pyplot as plt\n",
    "\n",
    "c = Counter(geometric(0.5) for _ in range(100))\n",
    "labels, vals = zip(*sorted(c.items()))\n",
    "\n",
    "width = 1\n",
    "inds = np.arange(len(labels))\n",
    "plt.bar(inds, vals, width)\n",
    "plt.xticks(inds, labels)\n",
    "plt.show()"
   ]
  },
  {
   "cell_type": "code",
   "execution_count": 29,
   "metadata": {},
   "outputs": [
    {
     "name": "stdout",
     "output_type": "stream",
     "text": [
      "tensor(-0.3078)\n"
     ]
    }
   ],
   "source": [
    "def normal_product(m, s):\n",
    "  n = pyro.distributions.Normal(m, s)\n",
    "  z1 = pyro.sample('z1', n)\n",
    "  z2 = pyro.sample('z2', n)\n",
    "  return z1 * z2\n",
    "\n",
    "def make_normal_normal():\n",
    "  n = pyro.distributions.Normal(0,1)\n",
    "  mu_latent = pyro.sample('mu_latent', n)\n",
    "  return lambda s: normal_product(mu_latent, s)\n",
    "\n",
    "print(make_normal_normal()(1.0))"
   ]
  },
  {
   "cell_type": "markdown",
   "metadata": {},
   "source": [
    "### Inference using Scale example"
   ]
  },
  {
   "cell_type": "code",
   "execution_count": 30,
   "metadata": {},
   "outputs": [],
   "source": [
    "import pyro.infer\n",
    "import pyro.optim\n",
    "import pyro.distributions as dist"
   ]
  },
  {
   "cell_type": "code",
   "execution_count": 31,
   "metadata": {},
   "outputs": [
    {
     "name": "stdout",
     "output_type": "stream",
     "text": [
      "tensor(11.7514)\n",
      "tensor(10.8844)\n",
      "tensor(10.3078)\n",
      "tensor(9.4212)\n"
     ]
    }
   ],
   "source": [
    "def scale(guess):\n",
    "  weight = pyro.sample('weight', dist.Normal(guess, 1.0))\n",
    "  return pyro.sample('measurement', dist.Normal(weight, 0.75))\n",
    "\n",
    "for _ in range(4):\n",
    "  print(scale(10))"
   ]
  },
  {
   "cell_type": "code",
   "execution_count": 52,
   "metadata": {},
   "outputs": [],
   "source": [
    "cond_scale = pyro.condition(scale, data={'measurement': 9.5})"
   ]
  },
  {
   "cell_type": "code",
   "execution_count": 56,
   "metadata": {},
   "outputs": [],
   "source": [
    "def scale_parametrized_guide(guess):\n",
    "    a = pyro.param(\"a\", torch.tensor(guess))\n",
    "    b = pyro.param(\"b\", torch.tensor(1.), constraint=dist.constraints.positive)\n",
    "    return pyro.sample(\"weight\", dist.Normal(a, b))"
   ]
  },
  {
   "cell_type": "code",
   "execution_count": 57,
   "metadata": {},
   "outputs": [
    {
     "name": "stdout",
     "output_type": "stream",
     "text": [
      "a = 9.132761001586914\n",
      "b = 0.5983076691627502\n"
     ]
    },
    {
     "data": {
      "image/png": "[encoded data removed]",
      "text/plain": [
       "<Figure size 432x288 with 1 Axes>"
      ]
     },
     "metadata": {
      "needs_background": "light"
     },
     "output_type": "display_data"
    }
   ],
   "source": [
    "guess = 8.5\n",
    "\n",
    "pyro.clear_param_store()\n",
    "svi = pyro.infer.SVI(model = cond_scale,\n",
    "                     guide = scale_parametrized_guide,\n",
    "                     optim = pyro.optim.SGD({'lr': 0.001, 'momentum': 0.1}),\n",
    "                     loss = pyro.infer.Trace_ELBO())\n",
    "losses, a, b = [], [] ,[]\n",
    "num_steps = 2500\n",
    "for t in range(num_steps):\n",
    "  losses.append(svi.step(guess))\n",
    "  a.append(pyro.param('a').item())\n",
    "  b.append(pyro.param('b').item())\n",
    "\n",
    "plt.plot(losses)\n",
    "plt.title('ELBO')\n",
    "plt.xlabel('step')\n",
    "plt.ylabel('loss')\n",
    "print(f'a = {pyro.param(\"a\").item()}')\n",
    "print(f'b = {pyro.param(\"b\").item()}')"
   ]
  },
  {
   "cell_type": "code",
   "execution_count": 59,
   "metadata": {},
   "outputs": [
    {
     "data": {
      "image/png": "[encoded data removed]",
      "text/plain": [
       "<Figure size 432x288 with 2 Axes>"
      ]
     },
     "metadata": {
      "needs_background": "light"
     },
     "output_type": "display_data"
    }
   ],
   "source": [
    "plt.subplot(1,2,1)\n",
    "plt.plot([0, num_steps], [9.14, 9.14], 'k:')\n",
    "plt.plot(a)\n",
    "plt.ylabel('a')\n",
    "\n",
    "plt.subplot(1,2,2)\n",
    "plt.plot([0, num_steps], [0.6, 0.6], 'k:')\n",
    "plt.plot(b)\n",
    "plt.ylabel('b')\n",
    "\n",
    "plt.tight_layout()"
   ]
  },
  {
   "cell_type": "markdown",
   "metadata": {},
   "source": [
    "### SVI Part 1"
   ]
  },
  {
   "cell_type": "code",
   "execution_count": 60,
   "metadata": {},
   "outputs": [],
   "source": [
    "def coin_model(data):\n",
    "    # define the hyperparameters that control the beta prior\n",
    "    alpha0 = torch.tensor(10.0)\n",
    "    beta0 = torch.tensor(10.0)\n",
    "    # sample f from the beta prior\n",
    "    f = pyro.sample(\"latent_fairness\", dist.Beta(alpha0, beta0))\n",
    "    # loop over the observed data\n",
    "    for i in range(len(data)):\n",
    "        # observe datapoint i using the bernoulli\n",
    "        # likelihood Bernoulli(f)\n",
    "        pyro.sample(\"obs_{}\".format(i), dist.Bernoulli(f), obs=data[i])"
   ]
  },
  {
   "cell_type": "code",
   "execution_count": 62,
   "metadata": {},
   "outputs": [],
   "source": [
    "def coin_guide(data):\n",
    "    # register the two variational parameters with Pyro.\n",
    "    alpha_q = pyro.param(\"alpha_q\", torch.tensor(15.0),\n",
    "                         constraint=dist.constraints.positive)\n",
    "    beta_q = pyro.param(\"beta_q\", torch.tensor(15.0),\n",
    "                        constraint=dist.constraints.positive)\n",
    "    # sample latent_fairness from the distribution Beta(alpha_q, beta_q)\n",
    "    pyro.sample(\"latent_fairness\", dist.Beta(alpha_q, beta_q))"
   ]
  },
  {
   "cell_type": "code",
   "execution_count": 105,
   "metadata": {},
   "outputs": [
    {
     "name": "stdout",
     "output_type": "stream",
     "text": [
      ".................................................."
     ]
    }
   ],
   "source": [
    "pyro.clear_param_store()\n",
    "\n",
    "# create some data with 6 observed heads and 4 observed tails\n",
    "# data = []\n",
    "# for _ in range(6):\n",
    "#     data.append(torch.tensor(1.0))\n",
    "# for _ in range(4):\n",
    "#     data.append(torch.tensor(0.0))\n",
    "\n",
    "# replaced to try running with subsampling\n",
    "# note: data needs to be in the form of a torch tensor now\n",
    "data = torch.zeros(10)\n",
    "data[0:6] = torch.ones(6) # 6 heads and 4 tails\n",
    "\n",
    "# set up the optimizer\n",
    "adam_params = {\"lr\": 0.0005, \"betas\": (0.90, 0.999)}\n",
    "optimizer = pyro.optim.Adam(adam_params)\n",
    "\n",
    "# setup the inference algorithm\n",
    "svi = pyro.infer.SVI(coin_model, coin_guide, optimizer, loss=pyro.infer.Trace_ELBO())\n",
    "\n",
    "n_steps = 5000\n",
    "# do gradient steps\n",
    "for step in range(n_steps):\n",
    "    svi.step(data)\n",
    "    if step % 100 == 0:\n",
    "        print('.', end='')"
   ]
  },
  {
   "cell_type": "code",
   "execution_count": 106,
   "metadata": {},
   "outputs": [
    {
     "name": "stdout",
     "output_type": "stream",
     "text": [
      "\n",
      "based on the data and our prior belief, the fairness of the coin is 0.538 +- 0.089\n"
     ]
    }
   ],
   "source": [
    "import math\n",
    "\n",
    "# grab the learned variational parameters\n",
    "alpha_q = pyro.param(\"alpha_q\").item()\n",
    "beta_q = pyro.param(\"beta_q\").item()\n",
    "\n",
    "# here we use some facts about the beta distribution\n",
    "# compute the inferred mean of the coin's fairness\n",
    "inferred_mean = alpha_q / (alpha_q + beta_q)\n",
    "# compute inferred standard deviation\n",
    "factor = beta_q / (alpha_q * (1.0 + alpha_q + beta_q))\n",
    "inferred_std = inferred_mean * math.sqrt(factor)\n",
    "\n",
    "print(\"\\nbased on the data and our prior belief, the fairness \" +\n",
    "      \"of the coin is %.3f +- %.3f\" % (inferred_mean, inferred_std))"
   ]
  },
  {
   "cell_type": "markdown",
   "metadata": {},
   "source": [
    "### SVI Part 2"
   ]
  },
  {
   "cell_type": "code",
   "execution_count": 107,
   "metadata": {},
   "outputs": [],
   "source": [
    "# define the hyperparameters that control the beta prior\n",
    "alpha0 = torch.tensor(10.0)\n",
    "beta0 = torch.tensor(10.0)"
   ]
  },
  {
   "cell_type": "code",
   "execution_count": 108,
   "metadata": {},
   "outputs": [],
   "source": [
    "# sequential plate\n",
    "def coin_model(data):\n",
    "  f = pyro.sample(\"latent_fairness\", dist.Beta(alpha0, beta0))\n",
    "  for i in pyro.plate('data_loop', len(data)):\n",
    "    pyro.sample(f\"obs_{i}\", dist.Bernoulli(f), obs=data[i])"
   ]
  },
  {
   "cell_type": "code",
   "execution_count": 109,
   "metadata": {},
   "outputs": [],
   "source": [
    "# vectorized plate\n",
    "# note: data needs to be in the form of a torch tensor now\n",
    "data = torch.zeros(10)\n",
    "data[0:6] = torch.ones(6) # 6 heads and 4 tails\n",
    "\n",
    "def coin_model(data):\n",
    "  f = pyro.sample(\"latent_fairness\", dist.Beta(alpha0, beta0))\n",
    "  # plate gives a conditional independence context\n",
    "  with pyro.plate('observed_data', size = 10, subsample_size = 5) as ind:\n",
    "    pyro.sample('obs', dist.Bernoulli(f), obs=data.index_select(0, ind))"
   ]
  },
  {
   "cell_type": "markdown",
   "metadata": {},
   "source": [
    "### SVI Part 3"
   ]
  },
  {
   "cell_type": "code",
   "execution_count": 111,
   "metadata": {},
   "outputs": [],
   "source": [
    "# template from SVI Tutorial Part 3\n",
    "\n",
    "import torch\n",
    "import torch.distributions.constraints as constraints\n",
    "import pyro\n",
    "import pyro.distributions as dist\n",
    "import pyro.optim as optim\n",
    "from pyro.infer import SVI, TraceGraph_ELBO\n",
    "\n",
    "def param_abs_error(name, target):\n",
    "    return torch.sum(torch.abs(target - pyro.param(name))).item()\n",
    "\n",
    "class Inference:\n",
    "  def __init__(self, data, max_steps = 10000):\n",
    "    self.max_steps = max_steps\n",
    "    self.data = data\n",
    "    self.n_data = self.data.size(0)\n",
    "    # declare parameters\n",
    "    # declare initial values for guide params\n",
    "\n",
    "  def model(self):\n",
    "    # declare the model\n",
    "    pass\n",
    "  \n",
    "  def guide(self):\n",
    "    # declare the guide\n",
    "    pass\n",
    "\n",
    "  def do_inference(self, tol=0.8):\n",
    "    pyro.clear_param_store()\n",
    "    optimizer = optim.Adam({'lr': .0005, 'betas': (0.93, 0.999)})\n",
    "    svi = SVI(self.model, self.guide, optimizer, loss=TraceGraph_ELBO())\n",
    "    print('Doing inference:')\n",
    "    \n",
    "    for k in range(self.max_steps):\n",
    "      svi.step()\n",
    "      if k % 100 == 0:\n",
    "        print('.', end='')\n",
    "        \n",
    "      # compute some error using param_abs_error\n",
    "      \n",
    "      # stop inference early if error is small\n",
    "      # if some_error < tol:\n",
    "      #   break\n",
    "      \n",
    "    print(f'\\nDid {k} steps of inference.')"
   ]
  },
  {
   "cell_type": "code",
   "execution_count": null,
   "metadata": {},
   "outputs": [],
   "source": []
  }
 ],
 "metadata": {
  "kernelspec": {
   "display_name": "Python 3",
   "language": "python",
   "name": "python3"
  },
  "language_info": {
   "codemirror_mode": {
    "name": "ipython",
    "version": 3
   },
   "file_extension": ".py",
   "mimetype": "text/x-python",
   "name": "python",
   "nbconvert_exporter": "python",
   "pygments_lexer": "ipython3",
   "version": "3.6.9"
  }
 },
 "nbformat": 4,
 "nbformat_minor": 4
}
