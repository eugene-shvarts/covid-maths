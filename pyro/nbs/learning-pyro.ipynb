{
 "cells": [
  {
   "cell_type": "code",
   "execution_count": 1,
   "metadata": {},
   "outputs": [],
   "source": [
    "import torch\n",
    "import pyro"
   ]
  },
  {
   "cell_type": "code",
   "execution_count": 2,
   "metadata": {},
   "outputs": [
    {
     "name": "stdout",
     "output_type": "stream",
     "text": [
      "sample tensor(-1.3357)\n",
      "log prob tensor(-1.8110)\n"
     ]
    }
   ],
   "source": [
    "m = 0\n",
    "s = 1\n",
    "normal = torch.distributions.Normal(m, s)\n",
    "x = normal.rsample()\n",
    "print('sample', x)\n",
    "print('log prob', normal.log_prob(x))"
   ]
  },
  {
   "cell_type": "code",
   "execution_count": 3,
   "metadata": {},
   "outputs": [],
   "source": [
    "def weather():\n",
    "    cloudy = pyro.distributions.Bernoulli(0.3).sample()\n",
    "    cloudy = 'cloudy' if cloudy.item() == 1.0 else 'sunny'\n",
    "    mean_temp = {'cloudy': 55.0, 'sunny': 75.0}[cloudy]\n",
    "    scale_temp = {'cloudy': 10.0, 'sunny': 15.0}[cloudy]\n",
    "    temp = pyro.distributions.Normal(mean_temp, scale_temp).rsample()\n",
    "    return cloudy, temp.item()"
   ]
  },
  {
   "cell_type": "code",
   "execution_count": 4,
   "metadata": {},
   "outputs": [
    {
     "data": {
      "text/plain": [
       "('sunny', 97.01063537597656)"
      ]
     },
     "execution_count": 4,
     "metadata": {},
     "output_type": "execute_result"
    }
   ],
   "source": [
    "weather()"
   ]
  },
  {
   "cell_type": "code",
   "execution_count": 5,
   "metadata": {},
   "outputs": [
    {
     "name": "stdout",
     "output_type": "stream",
     "text": [
      "('sunny', 43.183597564697266)\n",
      "('cloudy', 55.55808639526367)\n",
      "('sunny', 103.19703674316406)\n"
     ]
    }
   ],
   "source": [
    "cloudy_pdf = pyro.distributions.Bernoulli(0.3)\n",
    "\n",
    "def temp_pdf(is_cloudy):\n",
    "  m, s = (55.0, 10.0) if is_cloudy else (75.0, 15.0)\n",
    "  return pyro.distributions.Normal(m, s)\n",
    "\n",
    "def cloudy_str(is_cloudy):\n",
    "  return 'cloudy' if is_cloudy else 'sunny'\n",
    "\n",
    "def weather():\n",
    "  cloudy = pyro.sample('cloudy', cloudy_pdf)\n",
    "  is_cloudy = cloudy.item() == 1.0\n",
    "  temp = pyro.sample('temp', temp_pdf(is_cloudy))\n",
    "  return is_cloudy, temp.item()\n",
    "\n",
    "for _ in range(3):\n",
    "  is_cloudy, temp = weather()\n",
    "  print((cloudy_str(is_cloudy), temp))"
   ]
  },
  {
   "cell_type": "code",
   "execution_count": 6,
   "metadata": {},
   "outputs": [
    {
     "name": "stdout",
     "output_type": "stream",
     "text": [
      "62.67461013793945\n",
      "64.92877960205078\n",
      "67.72350311279297\n",
      "54.39554214477539\n",
      "204.452880859375\n",
      "33.4540901184082\n",
      "52.21428298950195\n",
      "54.8080940246582\n",
      "201.04031372070312\n",
      "55.73650360107422\n"
     ]
    }
   ],
   "source": [
    "def ice_cream_pdf(is_cloudy, temp):\n",
    "  m = 200.0 if not is_cloudy and temp > 80.0 else 50.0\n",
    "  return pyro.distributions.Normal(m, 10.0)\n",
    "\n",
    "def ice_cream_sales():\n",
    "  return pyro.sample('ice_cream', ice_cream_pdf(*weather()))\n",
    "\n",
    "for _ in range(10):\n",
    "  print(ice_cream_sales().item())"
   ]
  },
  {
   "cell_type": "code",
   "execution_count": 7,
   "metadata": {},
   "outputs": [],
   "source": [
    "def geometric(p, t=None):\n",
    "  if t is None:\n",
    "    t = 0\n",
    "  x = pyro.sample(f'x_{t}', pyro.distributions.Bernoulli(p))\n",
    "  if x.item() == 1:\n",
    "    return 0\n",
    "  else:\n",
    "    return 1 + geometric(p, t+1)"
   ]
  },
  {
   "cell_type": "code",
   "execution_count": 28,
   "metadata": {},
   "outputs": [
    {
     "data": {
      "image/png": "[encoded data removed]",
      "text/plain": [
       "<Figure size 432x288 with 1 Axes>"
      ]
     },
     "metadata": {
      "needs_background": "light"
     },
     "output_type": "display_data"
    }
   ],
   "source": [
    "from collections import Counter\n",
    "import numpy as np\n",
    "import matplotlib.pyplot as plt\n",
    "\n",
    "c = Counter(geometric(0.5) for _ in range(100))\n",
    "labels, vals = zip(*sorted(c.items()))\n",
    "\n",
    "width = 1\n",
    "inds = np.arange(len(labels))\n",
    "plt.bar(inds, vals, width)\n",
    "plt.xticks(inds, labels)\n",
    "plt.show()"
   ]
  },
  {
   "cell_type": "code",
   "execution_count": 29,
   "metadata": {},
   "outputs": [
    {
     "name": "stdout",
     "output_type": "stream",
     "text": [
      "tensor(-0.3078)\n"
     ]
    }
   ],
   "source": [
    "def normal_product(m, s):\n",
    "  n = pyro.distributions.Normal(m, s)\n",
    "  z1 = pyro.sample('z1', n)\n",
    "  z2 = pyro.sample('z2', n)\n",
    "  return z1 * z2\n",
    "\n",
    "def make_normal_normal():\n",
    "  n = pyro.distributions.Normal(0,1)\n",
    "  mu_latent = pyro.sample('mu_latent', n)\n",
    "  return lambda s: normal_product(mu_latent, s)\n",
    "\n",
    "print(make_normal_normal()(1.0))"
   ]
  },
  {
   "cell_type": "code",
   "execution_count": 30,
   "metadata": {},
   "outputs": [],
   "source": [
    "import pyro.infer\n",
    "import pyro.optim\n",
    "import pyro.distributions as dist"
   ]
  },
  {
   "cell_type": "code",
   "execution_count": 31,
   "metadata": {},
   "outputs": [
    {
     "name": "stdout",
     "output_type": "stream",
     "text": [
      "tensor(11.7514)\n",
      "tensor(10.8844)\n",
      "tensor(10.3078)\n",
      "tensor(9.4212)\n"
     ]
    }
   ],
   "source": [
    "def scale(guess):\n",
    "  weight = pyro.sample('weight', dist.Normal(guess, 1.0))\n",
    "  return pyro.sample('measurement', dist.Normal(weight, 0.75))\n",
    "\n",
    "for _ in range(4):\n",
    "  print(scale(10))"
   ]
  },
  {
   "cell_type": "code",
   "execution_count": 32,
   "metadata": {},
   "outputs": [],
   "source": [
    "cond_scale = pyro.condition(scale, data={'measurement': 9.5})"
   ]
  },
  {
   "cell_type": "code",
   "execution_count": 33,
   "metadata": {},
   "outputs": [],
   "source": [
    "def deferred_cond_scale(measurement, guess):\n",
    "  return pyro.condition(scale, data={'measurement': measurement})(guess)"
   ]
  },
  {
   "cell_type": "code",
   "execution_count": 51,
   "metadata": {},
   "outputs": [
    {
     "data": {
      "text/plain": [
       "9.5"
      ]
     },
     "execution_count": 51,
     "metadata": {},
     "output_type": "execute_result"
    }
   ],
   "source": [
    "deferred_cond_scale(9.5, 10)"
   ]
  },
  {
   "cell_type": "code",
   "execution_count": null,
   "metadata": {},
   "outputs": [],
   "source": []
  }
 ],
 "metadata": {
  "kernelspec": {
   "display_name": "Python 3",
   "language": "python",
   "name": "python3"
  },
  "language_info": {
   "codemirror_mode": {
    "name": "ipython",
    "version": 3
   },
   "file_extension": ".py",
   "mimetype": "text/x-python",
   "name": "python",
   "nbconvert_exporter": "python",
   "pygments_lexer": "ipython3",
   "version": "3.6.9"
  }
 },
 "nbformat": 4,
 "nbformat_minor": 4
}
